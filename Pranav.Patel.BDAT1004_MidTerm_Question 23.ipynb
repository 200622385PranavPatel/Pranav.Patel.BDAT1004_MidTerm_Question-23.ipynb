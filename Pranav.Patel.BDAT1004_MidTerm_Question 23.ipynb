{
 "cells": [
  {
   "cell_type": "markdown",
   "id": "0dd62228",
   "metadata": {},
   "source": [
    "# Mid Term Data Analytics Programming (BDAT 1004) \n",
    "## Name: Pranav Patel (200622385)"
   ]
  },
  {
   "cell_type": "markdown",
   "id": "b54e1573",
   "metadata": {},
   "source": [
    "## Question 23\n",
    "#### In a jupyter notebook solve the following question using python. Please upload the notebook to GitHub and provide the link submission box below.\n",
    "\n",
    "\n",
    "\n",
    "#### Develop a recursive function tough() that takes two nonnegative integer arguments and outputs a pattern as shown below. Hint: The first argument represents the indentation of the pattern, where the second argument -- always a pattern of 2 indicates the number *s in the longest line of *s in the pattern?"
   ]
  },
  {
   "cell_type": "code",
   "execution_count": 11,
   "id": "5d82efd0",
   "metadata": {},
   "outputs": [],
   "source": [
    "def tough(indent, n):\n",
    "    if n == 0:\n",
    "        return\n",
    "    elif n == 1:\n",
    "        print(' ' * indent + '*')\n",
    "    else:\n",
    "        tough(indent, n // 2)\n",
    "        print(' ' * indent + '*' * n)\n",
    "        tough(indent + n // 2, n // 2)\n"
   ]
  },
  {
   "cell_type": "code",
   "execution_count": 12,
   "id": "6e571374",
   "metadata": {},
   "outputs": [
    {
     "name": "stdout",
     "output_type": "stream",
     "text": [
      "f(0,0):\n",
      "\n",
      "f(0,1):\n",
      "*\n",
      "\n",
      "f(0,2):\n",
      "*\n",
      "**\n",
      " *\n",
      "\n",
      "f(0,4):\n",
      "*\n",
      "**\n",
      " *\n",
      "****\n",
      "  *\n",
      "  **\n",
      "   *\n"
     ]
    }
   ],
   "source": [
    "# Print pattern\n",
    "\n",
    "print(\"f(0,0):\")\n",
    "tough(0, 0)\n",
    "print(\"\\nf(0,1):\")\n",
    "tough(0, 1)\n",
    "print(\"\\nf(0,2):\")\n",
    "tough(0, 2)\n",
    "print(\"\\nf(0,4):\")\n",
    "tough(0, 4)\n"
   ]
  },
  {
   "cell_type": "code",
   "execution_count": null,
   "id": "70afde89",
   "metadata": {},
   "outputs": [],
   "source": []
  }
 ],
 "metadata": {
  "kernelspec": {
   "display_name": "Python 3 (ipykernel)",
   "language": "python",
   "name": "python3"
  },
  "language_info": {
   "codemirror_mode": {
    "name": "ipython",
    "version": 3
   },
   "file_extension": ".py",
   "mimetype": "text/x-python",
   "name": "python",
   "nbconvert_exporter": "python",
   "pygments_lexer": "ipython3",
   "version": "3.11.4"
  }
 },
 "nbformat": 4,
 "nbformat_minor": 5
}
